{
  "nbformat": 4,
  "nbformat_minor": 0,
  "metadata": {
    "colab": {
      "name": "Santander.ipynb",
      "provenance": []
    },
    "kernelspec": {
      "display_name": "Python 3",
      "language": "python",
      "name": "python3"
    }
  },
  "cells": [
    {
      "cell_type": "markdown",
      "metadata": {
        "id": "pUzL_sXey_4Q"
      },
      "source": [
        "<-img src=\"img1.jpg\" align=”center”>\n",
        "<h1>Previsão de transações bancárias de 200.000 clientes Santander</h1> <br>\n",
        "Projeto criado por <b>Alessandra Faria Abreu</b> enquanto ouvia Banda Eva e tomava café <br>\n",
        "Desafio disponivel no <i>Kaggle<i>"
      ]
    },
    {
      "cell_type": "code",
      "metadata": {
        "id": "-yCFiZnay_4S"
      },
      "source": [
        "#permite que os gráficos gerados sejam mostrados na mesma janela\n",
        "%matplotlib inline \n",
        "import pandas as pd\n",
        "import matplotlib.pyplot as plt\n",
        "import seaborn as sns\n",
        "from sklearn import datasets, linear_model \n",
        "from sklearn.model_selection import train_test_split \n",
        "#import plotly.graph_objs as go\n",
        "#define o estilo dos gráficos , \"ggplot\" é um estilo popular em R\n",
        "plt.style.use('ggplot') "
      ],
      "execution_count": null,
      "outputs": []
    },
    {
      "cell_type": "code",
      "metadata": {
        "colab": {
          "base_uri": "https://localhost:8080/"
        },
        "id": "DG5mLckOUty0",
        "outputId": "aa9474e9-68cd-443c-caa6-3362d4df2a2e"
      },
      "source": [
        "#@title Default title text\n",
        "#Realiza a leitura da base (csv) e carrega na mémoria\n",
        "#Para execução dentro do colab-Google\n",
        "from google.colab import drive\n",
        "drive.mount('/content/drive/')\n",
        "A ='/content/drive/My Drive/Trabalhos Faculdade/TDC/test.csv'\n",
        "B = '/content/drive/My Drive/Trabalhos Faculdade/TDC/train.csv'\n",
        "transacoesTrain = pd.read_csv(B)\n",
        "transacoesTest = pd.read_csv(A)"
      ],
      "execution_count": null,
      "outputs": [
        {
          "output_type": "stream",
          "text": [
            "Drive already mounted at /content/drive/; to attempt to forcibly remount, call drive.mount(\"/content/drive/\", force_remount=True).\n"
          ],
          "name": "stdout"
        }
      ]
    },
    {
      "cell_type": "markdown",
      "metadata": {
        "id": "p3UY7FpIy_4Y"
      },
      "source": [
        "<h1>Exploração das Bases</h1><br>\n",
        "<h2>Visualização da relação de dados da base Train - Dados</h2>"
      ]
    },
    {
      "cell_type": "code",
      "metadata": {
        "colab": {
          "base_uri": "https://localhost:8080/"
        },
        "id": "0pIj2v7_y_4m",
        "outputId": "446ef9c3-950e-427d-872e-955395b97a44"
      },
      "source": [
        "#Quantidade de linhas e colunas\n",
        "transacoesTrain.shape"
      ],
      "execution_count": null,
      "outputs": [
        {
          "output_type": "execute_result",
          "data": {
            "text/plain": [
              "(200000, 202)"
            ]
          },
          "metadata": {
            "tags": []
          },
          "execution_count": 7
        }
      ]
    },
    {
      "cell_type": "markdown",
      "metadata": {
        "id": "CjC0LKdfy_4z"
      },
      "source": [
        "<h2>Visualização das Bases - Gráficos</h2>"
      ]
    },
    {
      "cell_type": "code",
      "metadata": {
        "id": "Xq4y6qA_y_40",
        "outputId": "6459d52b-782c-4644-a483-5c34263cfbba"
      },
      "source": [
        "sns.countplot(transacoesTrain['target'])"
      ],
      "execution_count": null,
      "outputs": [
        {
          "output_type": "execute_result",
          "data": {
            "text/plain": [
              "<matplotlib.axes._subplots.AxesSubplot at 0x110fe58d0>"
            ]
          },
          "metadata": {
            "tags": []
          },
          "execution_count": 9
        },
        {
          "output_type": "display_data",
          "data": {
            "image/png": "[encoded data removed]",
            "text/plain": [
              "<Figure size 432x288 with 1 Axes>"
            ]
          },
          "metadata": {
            "tags": []
          }
        }
      ]
    },
    {
      "cell_type": "code",
      "metadata": {
        "id": "LWZHZAIWtKyy",
        "outputId": "03afc329-4612-4d35-d4e1-3f5e838c6b4b"
      },
      "source": [
        "#Mostra que o target é desbalanceado\n",
        "sns.set(rc={'figure.figsize':(9,7)})\n",
        "sns.distplot(transacoesTrain['target']);"
      ],
      "execution_count": null,
      "outputs": [
        {
          "output_type": "stream",
          "text": [
            "/anaconda3/lib/python3.6/site-packages/matplotlib/axes/_axes.py:6462: UserWarning: The 'normed' kwarg is deprecated, and has been replaced by the 'density' kwarg.\n",
            "  warnings.warn(\"The 'normed' kwarg is deprecated, and has been \"\n"
          ],
          "name": "stderr"
        },
        {
          "output_type": "display_data",
          "data": {
            "image/png": "[encoded data removed]",
            "text/plain": [
              "<Figure size 648x504 with 1 Axes>"
            ]
          },
          "metadata": {
            "tags": []
          }
        }
      ]
    },
    {
      "cell_type": "markdown",
      "metadata": {
        "id": "R0oq3Km_Bouq"
      },
      "source": [
        "# **Reamostragem**"
      ]
    },
    {
      "cell_type": "code",
      "metadata": {
        "id": "7XNhSeTXCPur"
      },
      "source": [
        "df = transacoesTrain.apply(pd.to_numeric, errors='coerce')\n",
        "df.fillna(0, inplace=True)\n",
        "x_train, x_test, y_train, y_test = train_test_split(df.drop('target',\n",
        "                                                    axis=1),\n",
        "                                                    df['target'],\n",
        "                                                    test_size=0.3,\n",
        "                                                    random_state=42)"
      ],
      "execution_count": null,
      "outputs": []
    },
    {
      "cell_type": "code",
      "metadata": {
        "colab": {
          "base_uri": "https://localhost:8080/"
        },
        "id": "CfbOcnXiBwkO",
        "outputId": "a96aa05a-9eef-4bb2-ad7b-f462e9f1b23f"
      },
      "source": [
        "# Iremos dividir a base em target 1 e target 0\n",
        "count_class_0, count_class_1 = transacoesTrain.target.value_counts()\n",
        "\n",
        "# Divide\n",
        "df_class_0 = transacoesTrain[transacoesTrain['target'] == 0]\n",
        "df_class_1 = transacoesTrain[transacoesTrain['target'] == 1]"
      ],
      "execution_count": null,
      "outputs": [
        {
          "output_type": "stream",
          "text": [
            "INFO:numexpr.utils:NumExpr defaulting to 2 threads.\n"
          ],
          "name": "stderr"
        }
      ]
    },
    {
      "cell_type": "code",
      "metadata": {
        "colab": {
          "base_uri": "https://localhost:8080/"
        },
        "id": "gIjjroAQK9f4",
        "outputId": "6484b930-c1f6-479f-c872-9935bafb0f74"
      },
      "source": [
        "df_class_0.shape , df_class_1.shape"
      ],
      "execution_count": null,
      "outputs": [
        {
          "output_type": "execute_result",
          "data": {
            "text/plain": [
              "((179902, 202), (20098, 202))"
            ]
          },
          "metadata": {
            "tags": []
          },
          "execution_count": 10
        }
      ]
    },
    {
      "cell_type": "code",
      "metadata": {
        "colab": {
          "base_uri": "https://localhost:8080/",
          "height": 347
        },
        "id": "RMtjBNq5LBwi",
        "outputId": "5e6b8fcd-84e4-418f-d98d-d06ef3177f7a"
      },
      "source": [
        "df_class_1_over = df_class_1.sample(count_class_0, replace=True)\n",
        "df_base_train_balanceada_over = pd.concat([df_class_0, df_class_1_over], axis=0)\n",
        "\n",
        "print('Random over-sampling:')\n",
        "print(df_base_train_balanceada_over.target.value_counts())\n",
        "\n",
        "df_base_train_balanceada_over.target.value_counts().plot(kind='bar', title='Count (target)');"
      ],
      "execution_count": null,
      "outputs": [
        {
          "output_type": "stream",
          "text": [
            "Random over-sampling:\n",
            "1    179902\n",
            "0    179902\n",
            "Name: target, dtype: int64\n"
          ],
          "name": "stdout"
        },
        {
          "output_type": "display_data",
          "data": {
            "image/png": "[encoded data removed]",
            "text/plain": [
              "<Figure size 432x288 with 1 Axes>"
            ]
          },
          "metadata": {
            "tags": []
          }
        }
      ]
    },
    {
      "cell_type": "markdown",
      "metadata": {
        "id": "qDRJXn83LPMe"
      },
      "source": [
        "# EXECUTANDO O MODELO"
      ]
    },
    {
      "cell_type": "code",
      "metadata": {
        "colab": {
          "base_uri": "https://localhost:8080/"
        },
        "id": "uNZCHuziPjA7",
        "outputId": "90f75d9b-e2eb-43d8-c492-e0adc9d7e5ca"
      },
      "source": [
        "!apt-get install swig -y\n",
        "!pip install Cython numpy\n",
        "\n",
        "# sometimes you have to run the next command twice on colab\n",
        "# I haven't figured out why\n",
        "!pip install auto-sklearn"
      ],
      "execution_count": null,
      "outputs": [
        {
          "output_type": "stream",
          "text": [
            "Reading package lists... Done\n",
            "Building dependency tree       \n",
            "Reading state information... Done\n",
            "The following additional packages will be installed:\n",
            "  swig3.0\n",
            "Suggested packages:\n",
            "  swig-doc swig-examples swig3.0-examples swig3.0-doc\n",
            "The following NEW packages will be installed:\n",
            "  swig swig3.0\n",
            "0 upgraded, 2 newly installed, 0 to remove and 39 not upgraded.\n",
            "Need to get 1,100 kB of archives.\n",
            "After this operation, 5,822 kB of additional disk space will be used.\n",
            "Get:1 http://archive.ubuntu.com/ubuntu bionic/universe amd64 swig3.0 amd64 3.0.12-1 [1,094 kB]\n",
            "Get:2 http://archive.ubuntu.com/ubuntu bionic/universe amd64 swig amd64 3.0.12-1 [6,460 B]\n",
            "Fetched 1,100 kB in 1s (766 kB/s)\n",
            "Selecting previously unselected package swig3.0.\n",
            "(Reading database ... 160837 files and directories currently installed.)\n",
            "Preparing to unpack .../swig3.0_3.0.12-1_amd64.deb ...\n",
            "Unpacking swig3.0 (3.0.12-1) ...\n",
            "Selecting previously unselected package swig.\n",
            "Preparing to unpack .../swig_3.0.12-1_amd64.deb ...\n",
            "Unpacking swig (3.0.12-1) ...\n",
            "Setting up swig3.0 (3.0.12-1) ...\n",
            "Setting up swig (3.0.12-1) ...\n",
            "Processing triggers for man-db (2.8.3-2ubuntu0.1) ...\n",
            "Requirement already satisfied: Cython in /usr/local/lib/python3.7/dist-packages (0.29.23)\n",
            "Requirement already satisfied: numpy in /usr/local/lib/python3.7/dist-packages (1.19.5)\n",
            "Collecting auto-sklearn\n",
            "\u001b[?25l  Downloading https://files.pythonhosted.org/packages/a5/1b/9249f7d4498cbdb0130352a838e02ca7d7bebbcacde74d1f4f26a5d9202b/auto-sklearn-0.12.6.tar.gz (6.1MB)\n",
            "\u001b[K     |████████████████████████████████| 6.1MB 5.9MB/s \n",
            "\u001b[?25hRequirement already satisfied: setuptools in /usr/local/lib/python3.7/dist-packages (from auto-sklearn) (57.2.0)\n",
            "Requirement already satisfied: numpy>=1.9.0 in /usr/local/lib/python3.7/dist-packages (from auto-sklearn) (1.19.5)\n",
            "Requirement already satisfied: scipy>=0.14.1 in /usr/local/lib/python3.7/dist-packages (from auto-sklearn) (1.4.1)\n",
            "Requirement already satisfied: joblib in /usr/local/lib/python3.7/dist-packages (from auto-sklearn) (1.0.1)\n",
            "Collecting scikit-learn<0.25.0,>=0.24.0\n",
            "\u001b[?25l  Downloading https://files.pythonhosted.org/packages/a8/eb/a48f25c967526b66d5f1fa7a984594f0bf0a5afafa94a8c4dbc317744620/scikit_learn-0.24.2-cp37-cp37m-manylinux2010_x86_64.whl (22.3MB)\n",
            "\u001b[K     |████████████████████████████████| 22.3MB 58.0MB/s \n",
            "\u001b[?25hRequirement already satisfied: dask in /usr/local/lib/python3.7/dist-packages (from auto-sklearn) (2021.7.0)\n",
            "Requirement already satisfied: distributed>=2.2.0 in /usr/local/lib/python3.7/dist-packages (from auto-sklearn) (2021.7.0)\n",
            "Requirement already satisfied: pyyaml in /usr/local/lib/python3.7/dist-packages (from auto-sklearn) (3.13)\n",
            "Requirement already satisfied: pandas>=1.0 in /usr/local/lib/python3.7/dist-packages (from auto-sklearn) (1.1.5)\n",
            "Collecting liac-arff\n",
            "  Downloading https://files.pythonhosted.org/packages/6e/43/73944aa5ad2b3185c0f0ba0ee6f73277f2eb51782ca6ccf3e6793caf209a/liac-arff-2.5.0.tar.gz\n",
            "Collecting ConfigSpace<0.5,>=0.4.14\n",
            "\u001b[?25l  Downloading https://files.pythonhosted.org/packages/3e/19/726bcb262949ec28c71ba571bfb1a0006f985e7141a83cff34c733c75739/ConfigSpace-0.4.19-cp37-cp37m-manylinux2014_x86_64.whl (4.2MB)\n",
            "\u001b[K     |████████████████████████████████| 4.2MB 30.6MB/s \n",
            "\u001b[?25hCollecting pynisher>=0.6.3\n",
            "  Downloading https://files.pythonhosted.org/packages/8d/39/edac9acf3bd245ecf475151014cce3652c25ca3c2352eac725502cfce6ea/pynisher-0.6.4.tar.gz\n",
            "Collecting pyrfr<0.9,>=0.8.1\n",
            "\u001b[?25l  Downloading https://files.pythonhosted.org/packages/8b/1a/56b630c949e942d12f4ad5f4fd240c1cf2e1260e5126190b171ca2aa9199/pyrfr-0.8.2-cp37-cp37m-manylinux2014_x86_64.whl (4.0MB)\n",
            "\u001b[K     |████████████████████████████████| 4.0MB 33.1MB/s \n",
            "\u001b[?25hCollecting smac<0.14,>=0.13.1\n",
            "\u001b[?25l  Downloading https://files.pythonhosted.org/packages/ef/f2/8ea040eaa2253a3606472b08d9c2a23be1a177c0c19e236a2b3222c0fd78/smac-0.13.1.tar.gz (258kB)\n",
            "\u001b[K     |████████████████████████████████| 266kB 45.1MB/s \n",
            "\u001b[?25hCollecting threadpoolctl>=2.0.0\n",
            "  Downloading https://files.pythonhosted.org/packages/c6/e8/c216b9b60cbba4642d3ca1bae7a53daa0c24426f662e0e3ce3dc7f6caeaa/threadpoolctl-2.2.0-py3-none-any.whl\n",
            "Requirement already satisfied: fsspec>=0.6.0 in /usr/local/lib/python3.7/dist-packages (from dask->auto-sklearn) (2021.7.0)\n",
            "Requirement already satisfied: toolz>=0.8.2 in /usr/local/lib/python3.7/dist-packages (from dask->auto-sklearn) (0.11.1)\n",
            "Requirement already satisfied: partd>=0.3.10 in /usr/local/lib/python3.7/dist-packages (from dask->auto-sklearn) (1.2.0)\n",
            "Requirement already satisfied: cloudpickle>=1.1.1 in /usr/local/lib/python3.7/dist-packages (from dask->auto-sklearn) (1.3.0)\n",
            "Requirement already satisfied: psutil>=5.0 in /usr/local/lib/python3.7/dist-packages (from distributed>=2.2.0->auto-sklearn) (5.4.8)\n",
            "Requirement already satisfied: click>=6.6 in /usr/local/lib/python3.7/dist-packages (from distributed>=2.2.0->auto-sklearn) (7.1.2)\n",
            "Requirement already satisfied: tblib>=1.6.0 in /usr/local/lib/python3.7/dist-packages (from distributed>=2.2.0->auto-sklearn) (1.7.0)\n",
            "Requirement already satisfied: zict>=0.1.3 in /usr/local/lib/python3.7/dist-packages (from distributed>=2.2.0->auto-sklearn) (2.0.0)\n",
            "Requirement already satisfied: tornado>=5; python_version < \"3.8\" in /usr/local/lib/python3.7/dist-packages (from distributed>=2.2.0->auto-sklearn) (5.1.1)\n",
            "Requirement already satisfied: msgpack>=0.6.0 in /usr/local/lib/python3.7/dist-packages (from distributed>=2.2.0->auto-sklearn) (1.0.2)\n",
            "Requirement already satisfied: sortedcontainers!=2.0.0,!=2.0.1 in /usr/local/lib/python3.7/dist-packages (from distributed>=2.2.0->auto-sklearn) (2.4.0)\n",
            "Requirement already satisfied: pytz>=2017.2 in /usr/local/lib/python3.7/dist-packages (from pandas>=1.0->auto-sklearn) (2018.9)\n",
            "Requirement already satisfied: python-dateutil>=2.7.3 in /usr/local/lib/python3.7/dist-packages (from pandas>=1.0->auto-sklearn) (2.8.1)\n",
            "Requirement already satisfied: pyparsing in /usr/local/lib/python3.7/dist-packages (from ConfigSpace<0.5,>=0.4.14->auto-sklearn) (2.4.7)\n",
            "Requirement already satisfied: cython in /usr/local/lib/python3.7/dist-packages (from ConfigSpace<0.5,>=0.4.14->auto-sklearn) (0.29.23)\n",
            "Collecting lazy_import\n",
            "  Downloading https://files.pythonhosted.org/packages/44/2e/5378f9b9cbc893826c2ecb022646c97ece9efbaad351adf89425fff33990/lazy_import-0.2.2.tar.gz\n",
            "Requirement already satisfied: locket in /usr/local/lib/python3.7/dist-packages (from partd>=0.3.10->dask->auto-sklearn) (0.2.1)\n",
            "Requirement already satisfied: heapdict in /usr/local/lib/python3.7/dist-packages (from zict>=0.1.3->distributed>=2.2.0->auto-sklearn) (1.0.1)\n",
            "Requirement already satisfied: six>=1.5 in /usr/local/lib/python3.7/dist-packages (from python-dateutil>=2.7.3->pandas>=1.0->auto-sklearn) (1.15.0)\n",
            "Building wheels for collected packages: auto-sklearn, liac-arff, pynisher, smac, lazy-import\n",
            "  Building wheel for auto-sklearn (setup.py) ... \u001b[?25l\u001b[?25hdone\n",
            "  Created wheel for auto-sklearn: filename=auto_sklearn-0.12.6-cp37-none-any.whl size=6370105 sha256=e8140e2040587a9c53bce05321822d26b6cab74528767cc96f64731f54c14c2e\n",
            "  Stored in directory: /root/.cache/pip/wheels/5f/c8/1f/3a6d11c1e156bf431e7cc4c4ff27e71059acc9638caa11ab35\n",
            "  Building wheel for liac-arff (setup.py) ... \u001b[?25l\u001b[?25hdone\n",
            "  Created wheel for liac-arff: filename=liac_arff-2.5.0-cp37-none-any.whl size=11732 sha256=cedf578586a213dc84e07e90ef76f67fe35cb4e389954e570f726109788aa023\n",
            "  Stored in directory: /root/.cache/pip/wheels/77/8d/b4/8bfce5beea9a3496cc15b24961876adb7b6e2912ff09164179\n",
            "  Building wheel for pynisher (setup.py) ... \u001b[?25l\u001b[?25hdone\n",
            "  Created wheel for pynisher: filename=pynisher-0.6.4-cp37-none-any.whl size=7045 sha256=ffa28af1fc759d3c459a438d5069ba32c33340ab0137b37f7f38097d5451b1cf\n",
            "  Stored in directory: /root/.cache/pip/wheels/70/07/6b/c0e6d547d91cd50a30207421c3c3a63d71f195255c66401209\n",
            "  Building wheel for smac (setup.py) ... \u001b[?25l\u001b[?25hdone\n",
            "  Created wheel for smac: filename=smac-0.13.1-cp37-none-any.whl size=252177 sha256=f3f37344d0d8311d6866ed93324feb70d1fe9b1260a4854e2476474c0f989872\n",
            "  Stored in directory: /root/.cache/pip/wheels/29/a6/af/9ec3c1ff517759ad1aad6babcbcf047dd5078c8b08fa4e63cc\n",
            "  Building wheel for lazy-import (setup.py) ... \u001b[?25l\u001b[?25hdone\n",
            "  Created wheel for lazy-import: filename=lazy_import-0.2.2-py2.py3-none-any.whl size=16497 sha256=01754dc305c59f4667c672b076b3bbc2176774c1a119247146f123a90d80a054\n",
            "  Stored in directory: /root/.cache/pip/wheels/a9/b0/b5/8c7e6810aee14bc4ed4a542ce56e744126263bf4f4825a9094\n",
            "Successfully built auto-sklearn liac-arff pynisher smac lazy-import\n",
            "Installing collected packages: threadpoolctl, scikit-learn, liac-arff, ConfigSpace, pynisher, pyrfr, lazy-import, smac, auto-sklearn\n",
            "  Found existing installation: scikit-learn 0.22.2.post1\n",
            "    Uninstalling scikit-learn-0.22.2.post1:\n",
            "      Successfully uninstalled scikit-learn-0.22.2.post1\n",
            "Successfully installed ConfigSpace-0.4.19 auto-sklearn-0.12.6 lazy-import-0.2.2 liac-arff-2.5.0 pynisher-0.6.4 pyrfr-0.8.2 scikit-learn-0.24.2 smac-0.13.1 threadpoolctl-2.2.0\n"
          ],
          "name": "stdout"
        }
      ]
    },
    {
      "cell_type": "code",
      "metadata": {
        "id": "LxxeRJYmcLq-"
      },
      "source": [
        "#!pip install dask distributed\n",
        "!pip install dask[complete] distributed --upgrade\n"
      ],
      "execution_count": null,
      "outputs": []
    },
    {
      "cell_type": "code",
      "metadata": {
        "id": "0cPfbxGcPprr"
      },
      "source": [
        "from scipy import stats\n",
        "import sklearn.datasets\n",
        "from sklearn.metrics import accuracy_score\n",
        "from sklearn import svm\n",
        "import sklearn.model_selection\n",
        "import sklearn.datasets\n",
        "import sklearn.metrics\n",
        "import autosklearn.classification"
      ],
      "execution_count": null,
      "outputs": []
    },
    {
      "cell_type": "code",
      "metadata": {
        "id": "SsZGbuv_LVuI"
      },
      "source": [
        "df = df_base_train_balanceada_over.apply(pd.to_numeric, errors='coerce')\n",
        "df.fillna(0, inplace=True)\n",
        "x_train, x_test, y_train, y_test = train_test_split(df.drop('target',\n",
        "                                                    axis=1),\n",
        "                                                    df['target'],\n",
        "                                                    test_size=0.3,\n",
        "                                                    random_state=42)"
      ],
      "execution_count": null,
      "outputs": []
    },
    {
      "cell_type": "code",
      "metadata": {
        "id": "Dee7EH05LoD4"
      },
      "source": [
        "# configure auto-sklearn\n",
        "automl = autosklearn.classification.AutoSklearnClassifier(\n",
        "          time_left_for_this_task=18000, # execute o auto-sklearn por no máximo x segundos\n",
        "          per_run_time_limit=10800, #, gastar no máximo Y segundos para cada modelo de treinamento\n",
        "          include_preprocessors=[\"no_preprocessing\"],\n",
        "          delete_output_folder_after_terminate=False,\n",
        "          delete_tmp_folder_after_terminate=False\n",
        "          )"
      ],
      "execution_count": null,
      "outputs": []
    },
    {
      "cell_type": "code",
      "metadata": {
        "colab": {
          "background_save": true,
          "base_uri": "https://localhost:8080/"
        },
        "id": "knfdhjTJKslI",
        "outputId": "e5d7b5b1-7928-49e3-f542-aa1c5753e3b9"
      },
      "source": [
        "# train model(s)\n",
        "automl.fit(x_train, y_train)\n",
        "\n",
        "# evaluate\n",
        "y_hat = automl.predict(x_test)\n",
        "test_acc = sklearn.metrics.accuracy_score(y_test, y_hat)\n",
        "test_report = sklearn.metrics.classification_report(y_test, y_hat)\n",
        "test_matrix = sklearn.metrics.confusion_matrix(y_test, y_hat)\n",
        "print(\"-------------------------------------------------------------------------\")\n",
        "print(\"Test Accuracy score {0}\".format(test_acc))\n",
        "print(\"-------------------------------------------------------------------------\")\n",
        "print(\"Test Report score {0}\".format(test_report))\n",
        "print(\"-------------------------------------------------------------------------\")\n",
        "print(\"Test Confusion Matrix {0}\".format(test_matrix))\n",
        "print(\"-------------------------------------------------------------------------\")\n",
        "print(automl.sprint_statistics())\n",
        "print(\"-------------------------------------------------------------------------\")\n",
        "print(automl.show_models())\n",
        "print(\"-------------------------------------------------------------------------\")\n",
        "print(automl.get_models_with_weights())"
      ],
      "execution_count": null,
      "outputs": [
        {
          "output_type": "stream",
          "text": [
            "[WARNING] [2021-07-16 19:46:41,818:Client-AutoML(1):8ad4eb2e-e66e-11eb-828e-0242ac1c0002] Dataset too large for memory limit 3072MB, reducing number of samples from 251862 to 200324.\n",
            "[WARNING] [2021-07-16 19:46:46,800:Client-AutoML(1):8ad4eb2e-e66e-11eb-828e-0242ac1c0002] Capping the per_run_time_limit to 8997.0 to have time for a least 2 models in each process.\n",
            "[WARNING] [2021-07-16 19:46:50,100:Client-AutoMLSMBO(1)::8ad4eb2e-e66e-11eb-828e-0242ac1c0002] Configuration 43 not found\n",
            "[WARNING] [2021-07-16 19:46:50,100:Client-AutoMLSMBO(1)::8ad4eb2e-e66e-11eb-828e-0242ac1c0002] Configuration 338 not found\n",
            "[WARNING] [2021-07-16 19:46:50,100:Client-AutoMLSMBO(1)::8ad4eb2e-e66e-11eb-828e-0242ac1c0002] Configuration 283 not found\n",
            "[WARNING] [2021-07-16 19:46:50,100:Client-AutoMLSMBO(1)::8ad4eb2e-e66e-11eb-828e-0242ac1c0002] Configuration 624 not found\n",
            "[WARNING] [2021-07-16 19:46:50,101:Client-AutoMLSMBO(1)::8ad4eb2e-e66e-11eb-828e-0242ac1c0002] Configuration 576 not found\n",
            "[WARNING] [2021-07-16 19:46:50,101:Client-AutoMLSMBO(1)::8ad4eb2e-e66e-11eb-828e-0242ac1c0002] Configuration 532 not found\n",
            "[WARNING] [2021-07-16 19:46:50,101:Client-AutoMLSMBO(1)::8ad4eb2e-e66e-11eb-828e-0242ac1c0002] Configuration 454 not found\n",
            "[WARNING] [2021-07-16 19:46:50,102:Client-AutoMLSMBO(1)::8ad4eb2e-e66e-11eb-828e-0242ac1c0002] Configuration 643 not found\n",
            "[WARNING] [2021-07-16 19:46:50,102:Client-AutoMLSMBO(1)::8ad4eb2e-e66e-11eb-828e-0242ac1c0002] Configuration 227 not found\n",
            "[WARNING] [2021-07-16 19:46:50,102:Client-AutoMLSMBO(1)::8ad4eb2e-e66e-11eb-828e-0242ac1c0002] Configuration 67 not found\n",
            "[WARNING] [2021-07-16 19:46:50,102:Client-AutoMLSMBO(1)::8ad4eb2e-e66e-11eb-828e-0242ac1c0002] Configuration 518 not found\n",
            "[WARNING] [2021-07-16 19:46:50,103:Client-AutoMLSMBO(1)::8ad4eb2e-e66e-11eb-828e-0242ac1c0002] Configuration 506 not found\n",
            "[WARNING] [2021-07-16 19:46:50,103:Client-AutoMLSMBO(1)::8ad4eb2e-e66e-11eb-828e-0242ac1c0002] Configuration 145 not found\n",
            "[WARNING] [2021-07-16 19:46:50,103:Client-AutoMLSMBO(1)::8ad4eb2e-e66e-11eb-828e-0242ac1c0002] Configuration 347 not found\n",
            "[WARNING] [2021-07-16 19:46:50,103:Client-AutoMLSMBO(1)::8ad4eb2e-e66e-11eb-828e-0242ac1c0002] Configuration 138 not found\n",
            "[WARNING] [2021-07-16 19:46:50,103:Client-AutoMLSMBO(1)::8ad4eb2e-e66e-11eb-828e-0242ac1c0002] Configuration 191 not found\n",
            "[WARNING] [2021-07-16 19:46:50,103:Client-AutoMLSMBO(1)::8ad4eb2e-e66e-11eb-828e-0242ac1c0002] Configuration 605 not found\n",
            "[WARNING] [2021-07-16 19:46:50,103:Client-AutoMLSMBO(1)::8ad4eb2e-e66e-11eb-828e-0242ac1c0002] Configuration 81 not found\n",
            "[WARNING] [2021-07-16 19:46:50,103:Client-AutoMLSMBO(1)::8ad4eb2e-e66e-11eb-828e-0242ac1c0002] Configuration 524 not found\n",
            "[WARNING] [2021-07-16 19:46:50,103:Client-AutoMLSMBO(1)::8ad4eb2e-e66e-11eb-828e-0242ac1c0002] Configuration 108 not found\n",
            "[WARNING] [2021-07-16 19:46:50,103:Client-AutoMLSMBO(1)::8ad4eb2e-e66e-11eb-828e-0242ac1c0002] Configuration 674 not found\n",
            "[WARNING] [2021-07-16 19:46:50,103:Client-AutoMLSMBO(1)::8ad4eb2e-e66e-11eb-828e-0242ac1c0002] Configuration 473 not found\n",
            "[WARNING] [2021-07-16 19:46:50,103:Client-AutoMLSMBO(1)::8ad4eb2e-e66e-11eb-828e-0242ac1c0002] Configuration 230 not found\n",
            "[WARNING] [2021-07-16 19:46:50,104:Client-AutoMLSMBO(1)::8ad4eb2e-e66e-11eb-828e-0242ac1c0002] Configuration 211 not found\n",
            "[WARNING] [2021-07-16 19:46:50,104:Client-AutoMLSMBO(1)::8ad4eb2e-e66e-11eb-828e-0242ac1c0002] Configuration 426 not found\n",
            "[WARNING] [2021-07-16 19:46:50,104:Client-AutoMLSMBO(1)::8ad4eb2e-e66e-11eb-828e-0242ac1c0002] Configuration 585 not found\n",
            "[WARNING] [2021-07-16 19:46:50,104:Client-AutoMLSMBO(1)::8ad4eb2e-e66e-11eb-828e-0242ac1c0002] Configuration 460 not found\n",
            "[WARNING] [2021-07-16 19:46:50,104:Client-AutoMLSMBO(1)::8ad4eb2e-e66e-11eb-828e-0242ac1c0002] Configuration 590 not found\n",
            "[WARNING] [2021-07-16 19:46:50,104:Client-AutoMLSMBO(1)::8ad4eb2e-e66e-11eb-828e-0242ac1c0002] Configuration 9 not found\n",
            "[WARNING] [2021-07-16 19:46:50,118:Client-AutoMLSMBO(1)::8ad4eb2e-e66e-11eb-828e-0242ac1c0002] Configuration 393 not found\n",
            "[WARNING] [2021-07-16 19:46:50,118:Client-AutoMLSMBO(1)::8ad4eb2e-e66e-11eb-828e-0242ac1c0002] Configuration 238 not found\n",
            "[WARNING] [2021-07-16 19:46:50,118:Client-AutoMLSMBO(1)::8ad4eb2e-e66e-11eb-828e-0242ac1c0002] Configuration 222 not found\n",
            "[WARNING] [2021-07-16 19:46:50,118:Client-AutoMLSMBO(1)::8ad4eb2e-e66e-11eb-828e-0242ac1c0002] Configuration 690 not found\n",
            "[WARNING] [2021-07-16 19:46:50,118:Client-AutoMLSMBO(1)::8ad4eb2e-e66e-11eb-828e-0242ac1c0002] Configuration 262 not found\n",
            "[WARNING] [2021-07-16 19:46:50,118:Client-AutoMLSMBO(1)::8ad4eb2e-e66e-11eb-828e-0242ac1c0002] Configuration 329 not found\n",
            "[WARNING] [2021-07-16 19:46:50,120:Client-AutoMLSMBO(1)::8ad4eb2e-e66e-11eb-828e-0242ac1c0002] Configuration 188 not found\n",
            "[WARNING] [2021-07-16 19:46:50,120:Client-AutoMLSMBO(1)::8ad4eb2e-e66e-11eb-828e-0242ac1c0002] Configuration 345 not found\n",
            "[WARNING] [2021-07-16 19:46:50,120:Client-AutoMLSMBO(1)::8ad4eb2e-e66e-11eb-828e-0242ac1c0002] Configuration 114 not found\n",
            "[WARNING] [2021-07-16 19:46:50,121:Client-AutoMLSMBO(1)::8ad4eb2e-e66e-11eb-828e-0242ac1c0002] Configuration 149 not found\n",
            "[WARNING] [2021-07-16 19:46:50,121:Client-AutoMLSMBO(1)::8ad4eb2e-e66e-11eb-828e-0242ac1c0002] Configuration 358 not found\n",
            "[WARNING] [2021-07-16 19:46:50,121:Client-AutoMLSMBO(1)::8ad4eb2e-e66e-11eb-828e-0242ac1c0002] Configuration 61 not found\n",
            "[WARNING] [2021-07-16 19:46:50,121:Client-AutoMLSMBO(1)::8ad4eb2e-e66e-11eb-828e-0242ac1c0002] Configuration 560 not found\n",
            "[WARNING] [2021-07-16 19:46:50,121:Client-AutoMLSMBO(1)::8ad4eb2e-e66e-11eb-828e-0242ac1c0002] Configuration 332 not found\n",
            "[WARNING] [2021-07-16 19:46:50,121:Client-AutoMLSMBO(1)::8ad4eb2e-e66e-11eb-828e-0242ac1c0002] Configuration 440 not found\n",
            "[WARNING] [2021-07-16 19:46:50,121:Client-AutoMLSMBO(1)::8ad4eb2e-e66e-11eb-828e-0242ac1c0002] Configuration 367 not found\n",
            "[WARNING] [2021-07-16 19:46:50,121:Client-AutoMLSMBO(1)::8ad4eb2e-e66e-11eb-828e-0242ac1c0002] Configuration 184 not found\n",
            "[WARNING] [2021-07-16 19:46:50,122:Client-AutoMLSMBO(1)::8ad4eb2e-e66e-11eb-828e-0242ac1c0002] Configuration 257 not found\n",
            "[WARNING] [2021-07-16 19:46:50,122:Client-AutoMLSMBO(1)::8ad4eb2e-e66e-11eb-828e-0242ac1c0002] Configuration 386 not found\n",
            "[WARNING] [2021-07-16 19:46:50,122:Client-AutoMLSMBO(1)::8ad4eb2e-e66e-11eb-828e-0242ac1c0002] Configuration 206 not found\n",
            "[WARNING] [2021-07-16 19:46:50,122:Client-AutoMLSMBO(1)::8ad4eb2e-e66e-11eb-828e-0242ac1c0002] Configuration 657 not found\n",
            "[WARNING] [2021-07-16 19:46:50,122:Client-AutoMLSMBO(1)::8ad4eb2e-e66e-11eb-828e-0242ac1c0002] Configuration 663 not found\n",
            "[WARNING] [2021-07-16 19:46:50,122:Client-AutoMLSMBO(1)::8ad4eb2e-e66e-11eb-828e-0242ac1c0002] Configuration 521 not found\n",
            "[WARNING] [2021-07-16 19:46:50,122:Client-AutoMLSMBO(1)::8ad4eb2e-e66e-11eb-828e-0242ac1c0002] Configuration 162 not found\n",
            "[WARNING] [2021-07-16 19:46:50,122:Client-AutoMLSMBO(1)::8ad4eb2e-e66e-11eb-828e-0242ac1c0002] Configuration 14 not found\n",
            "[WARNING] [2021-07-16 19:46:50,122:Client-AutoMLSMBO(1)::8ad4eb2e-e66e-11eb-828e-0242ac1c0002] Configuration 32 not found\n",
            "[WARNING] [2021-07-16 19:46:50,126:Client-AutoMLSMBO(1)::8ad4eb2e-e66e-11eb-828e-0242ac1c0002] Configuration 546 not found\n",
            "[WARNING] [2021-07-16 19:46:50,126:Client-AutoMLSMBO(1)::8ad4eb2e-e66e-11eb-828e-0242ac1c0002] Configuration 71 not found\n",
            "[WARNING] [2021-07-16 19:46:50,126:Client-AutoMLSMBO(1)::8ad4eb2e-e66e-11eb-828e-0242ac1c0002] Configuration 407 not found\n",
            "[WARNING] [2021-07-16 19:46:50,126:Client-AutoMLSMBO(1)::8ad4eb2e-e66e-11eb-828e-0242ac1c0002] Configuration 476 not found\n",
            "[WARNING] [2021-07-16 19:46:50,134:Client-AutoMLSMBO(1)::8ad4eb2e-e66e-11eb-828e-0242ac1c0002] Configuration 430 not found\n",
            "[WARNING] [2021-07-16 19:46:50,126:Client-AutoMLSMBO(1)::8ad4eb2e-e66e-11eb-828e-0242ac1c0002] Configuration 536 not found\n",
            "[WARNING] [2021-07-16 19:46:50,126:Client-AutoMLSMBO(1)::8ad4eb2e-e66e-11eb-828e-0242ac1c0002] Configuration 22 not found\n",
            "[WARNING] [2021-07-16 19:46:50,126:Client-AutoMLSMBO(1)::8ad4eb2e-e66e-11eb-828e-0242ac1c0002] Configuration 176 not found\n",
            "[WARNING] [2021-07-16 19:46:50,126:Client-AutoMLSMBO(1)::8ad4eb2e-e66e-11eb-828e-0242ac1c0002] Configuration 601 not found\n",
            "[WARNING] [2021-07-16 19:46:50,126:Client-AutoMLSMBO(1)::8ad4eb2e-e66e-11eb-828e-0242ac1c0002] Configuration 492 not found\n",
            "[WARNING] [2021-07-16 19:46:50,126:Client-AutoMLSMBO(1)::8ad4eb2e-e66e-11eb-828e-0242ac1c0002] Configuration 702 not found\n",
            "[WARNING] [2021-07-16 19:46:50,126:Client-AutoMLSMBO(1)::8ad4eb2e-e66e-11eb-828e-0242ac1c0002] Configuration 266 not found\n",
            "[WARNING] [2021-07-16 19:46:50,127:Client-AutoMLSMBO(1)::8ad4eb2e-e66e-11eb-828e-0242ac1c0002] Configuration 574 not found\n",
            "[WARNING] [2021-07-16 19:46:50,127:Client-AutoMLSMBO(1)::8ad4eb2e-e66e-11eb-828e-0242ac1c0002] Configuration 147 not found\n",
            "[WARNING] [2021-07-16 19:46:50,127:Client-AutoMLSMBO(1)::8ad4eb2e-e66e-11eb-828e-0242ac1c0002] Configuration 91 not found\n",
            "[WARNING] [2021-07-16 19:46:50,127:Client-AutoMLSMBO(1)::8ad4eb2e-e66e-11eb-828e-0242ac1c0002] Configuration 444 not found\n",
            "[WARNING] [2021-07-16 19:46:50,127:Client-AutoMLSMBO(1)::8ad4eb2e-e66e-11eb-828e-0242ac1c0002] Configuration 220 not found\n",
            "[WARNING] [2021-07-16 19:46:50,127:Client-AutoMLSMBO(1)::8ad4eb2e-e66e-11eb-828e-0242ac1c0002] Configuration 282 not found\n",
            "[WARNING] [2021-07-16 19:46:50,127:Client-AutoMLSMBO(1)::8ad4eb2e-e66e-11eb-828e-0242ac1c0002] Configuration 579 not found\n",
            "[WARNING] [2021-07-16 19:46:50,127:Client-AutoMLSMBO(1)::8ad4eb2e-e66e-11eb-828e-0242ac1c0002] Configuration 315 not found\n",
            "[WARNING] [2021-07-16 19:46:50,127:Client-AutoMLSMBO(1)::8ad4eb2e-e66e-11eb-828e-0242ac1c0002] Configuration 7 not found\n",
            "[WARNING] [2021-07-16 19:46:50,127:Client-AutoMLSMBO(1)::8ad4eb2e-e66e-11eb-828e-0242ac1c0002] Configuration 676 not found\n",
            "[WARNING] [2021-07-16 19:46:50,127:Client-AutoMLSMBO(1)::8ad4eb2e-e66e-11eb-828e-0242ac1c0002] Configuration 88 not found\n",
            "[WARNING] [2021-07-16 19:46:50,128:Client-AutoMLSMBO(1)::8ad4eb2e-e66e-11eb-828e-0242ac1c0002] Configuration 687 not found\n",
            "[WARNING] [2021-07-16 19:46:50,128:Client-AutoMLSMBO(1)::8ad4eb2e-e66e-11eb-828e-0242ac1c0002] Configuration 173 not found\n",
            "[WARNING] [2021-07-16 19:46:50,128:Client-AutoMLSMBO(1)::8ad4eb2e-e66e-11eb-828e-0242ac1c0002] Configuration 631 not found\n",
            "[WARNING] [2021-07-16 19:46:50,128:Client-AutoMLSMBO(1)::8ad4eb2e-e66e-11eb-828e-0242ac1c0002] Configuration 99 not found\n",
            "[WARNING] [2021-07-16 19:46:50,129:Client-AutoMLSMBO(1)::8ad4eb2e-e66e-11eb-828e-0242ac1c0002] Configuration 131 not found\n",
            "[WARNING] [2021-07-16 19:46:50,129:Client-AutoMLSMBO(1)::8ad4eb2e-e66e-11eb-828e-0242ac1c0002] Configuration 694 not found\n",
            "[WARNING] [2021-07-16 19:46:50,129:Client-AutoMLSMBO(1)::8ad4eb2e-e66e-11eb-828e-0242ac1c0002] Configuration 595 not found\n",
            "[WARNING] [2021-07-16 19:46:50,130:Client-AutoMLSMBO(1)::8ad4eb2e-e66e-11eb-828e-0242ac1c0002] Configuration 369 not found\n",
            "[WARNING] [2021-07-16 19:46:50,130:Client-AutoMLSMBO(1)::8ad4eb2e-e66e-11eb-828e-0242ac1c0002] Configuration 543 not found\n",
            "[WARNING] [2021-07-16 19:46:50,130:Client-AutoMLSMBO(1)::8ad4eb2e-e66e-11eb-828e-0242ac1c0002] Configuration 277 not found\n",
            "[WARNING] [2021-07-16 19:46:50,130:Client-AutoMLSMBO(1)::8ad4eb2e-e66e-11eb-828e-0242ac1c0002] Configuration 237 not found\n",
            "[WARNING] [2021-07-16 19:46:50,130:Client-AutoMLSMBO(1)::8ad4eb2e-e66e-11eb-828e-0242ac1c0002] Configuration 129 not found\n",
            "[WARNING] [2021-07-16 19:46:50,130:Client-AutoMLSMBO(1)::8ad4eb2e-e66e-11eb-828e-0242ac1c0002] Configuration 701 not found\n",
            "[WARNING] [2021-07-16 19:46:50,130:Client-AutoMLSMBO(1)::8ad4eb2e-e66e-11eb-828e-0242ac1c0002] Configuration 56 not found\n",
            "[WARNING] [2021-07-16 19:46:50,130:Client-AutoMLSMBO(1)::8ad4eb2e-e66e-11eb-828e-0242ac1c0002] Configuration 291 not found\n",
            "[WARNING] [2021-07-16 19:46:50,130:Client-AutoMLSMBO(1)::8ad4eb2e-e66e-11eb-828e-0242ac1c0002] Configuration 254 not found\n",
            "[WARNING] [2021-07-16 19:46:50,130:Client-AutoMLSMBO(1)::8ad4eb2e-e66e-11eb-828e-0242ac1c0002] Configuration 414 not found\n",
            "[WARNING] [2021-07-16 19:46:50,130:Client-AutoMLSMBO(1)::8ad4eb2e-e66e-11eb-828e-0242ac1c0002] Configuration 485 not found\n",
            "[WARNING] [2021-07-16 19:46:50,130:Client-AutoMLSMBO(1)::8ad4eb2e-e66e-11eb-828e-0242ac1c0002] Configuration 434 not found\n",
            "[WARNING] [2021-07-16 19:46:50,130:Client-AutoMLSMBO(1)::8ad4eb2e-e66e-11eb-828e-0242ac1c0002] Configuration 615 not found\n",
            "[WARNING] [2021-07-16 19:46:50,133:Client-AutoMLSMBO(1)::8ad4eb2e-e66e-11eb-828e-0242ac1c0002] Configuration 193 not found\n",
            "[WARNING] [2021-07-16 19:46:50,134:Client-AutoMLSMBO(1)::8ad4eb2e-e66e-11eb-828e-0242ac1c0002] Configuration 647 not found\n",
            "[WARNING] [2021-07-16 19:46:50,134:Client-AutoMLSMBO(1)::8ad4eb2e-e66e-11eb-828e-0242ac1c0002] Configuration 28 not found\n",
            "[WARNING] [2021-07-16 19:46:50,134:Client-AutoMLSMBO(1)::8ad4eb2e-e66e-11eb-828e-0242ac1c0002] Configuration 160 not found\n",
            "[WARNING] [2021-07-16 19:46:50,134:Client-AutoMLSMBO(1)::8ad4eb2e-e66e-11eb-828e-0242ac1c0002] Configuration 422 not found\n",
            "[WARNING] [2021-07-16 19:46:50,134:Client-AutoMLSMBO(1)::8ad4eb2e-e66e-11eb-828e-0242ac1c0002] Configuration 232 not found\n",
            "[WARNING] [2021-07-16 19:46:50,134:Client-AutoMLSMBO(1)::8ad4eb2e-e66e-11eb-828e-0242ac1c0002] Configuration 680 not found\n",
            "[WARNING] [2021-07-16 19:46:50,134:Client-AutoMLSMBO(1)::8ad4eb2e-e66e-11eb-828e-0242ac1c0002] Configuration 571 not found\n",
            "[WARNING] [2021-07-16 19:46:50,134:Client-AutoMLSMBO(1)::8ad4eb2e-e66e-11eb-828e-0242ac1c0002] Configuration 302 not found\n",
            "[WARNING] [2021-07-16 19:46:50,135:Client-AutoMLSMBO(1)::8ad4eb2e-e66e-11eb-828e-0242ac1c0002] Configuration 553 not found\n",
            "[WARNING] [2021-07-16 19:46:50,135:Client-AutoMLSMBO(1)::8ad4eb2e-e66e-11eb-828e-0242ac1c0002] Configuration 264 not found\n",
            "[WARNING] [2021-07-16 19:46:50,135:Client-AutoMLSMBO(1)::8ad4eb2e-e66e-11eb-828e-0242ac1c0002] Configuration 707 not found\n",
            "[WARNING] [2021-07-16 19:46:50,135:Client-AutoMLSMBO(1)::8ad4eb2e-e66e-11eb-828e-0242ac1c0002] Configuration 197 not found\n",
            "[WARNING] [2021-07-16 19:46:50,135:Client-AutoMLSMBO(1)::8ad4eb2e-e66e-11eb-828e-0242ac1c0002] Configuration 48 not found\n",
            "[WARNING] [2021-07-16 19:46:50,136:Client-AutoMLSMBO(1)::8ad4eb2e-e66e-11eb-828e-0242ac1c0002] Configuration 40 not found\n",
            "[WARNING] [2021-07-16 19:46:50,136:Client-AutoMLSMBO(1)::8ad4eb2e-e66e-11eb-828e-0242ac1c0002] Configuration 635 not found\n",
            "[WARNING] [2021-07-16 19:46:50,136:Client-AutoMLSMBO(1)::8ad4eb2e-e66e-11eb-828e-0242ac1c0002] Configuration 555 not found\n",
            "[WARNING] [2021-07-16 19:46:50,136:Client-AutoMLSMBO(1)::8ad4eb2e-e66e-11eb-828e-0242ac1c0002] Configuration 124 not found\n",
            "[WARNING] [2021-07-16 19:46:50,136:Client-AutoMLSMBO(1)::8ad4eb2e-e66e-11eb-828e-0242ac1c0002] Configuration 357 not found\n",
            "[WARNING] [2021-07-16 19:46:50,137:Client-AutoMLSMBO(1)::8ad4eb2e-e66e-11eb-828e-0242ac1c0002] Configuration 515 not found\n",
            "[WARNING] [2021-07-16 19:46:50,137:Client-AutoMLSMBO(1)::8ad4eb2e-e66e-11eb-828e-0242ac1c0002] Configuration 288 not found\n",
            "[WARNING] [2021-07-16 19:46:50,137:Client-AutoMLSMBO(1)::8ad4eb2e-e66e-11eb-828e-0242ac1c0002] Configuration 83 not found\n",
            "[WARNING] [2021-07-16 19:46:50,137:Client-AutoMLSMBO(1)::8ad4eb2e-e66e-11eb-828e-0242ac1c0002] Configuration 648 not found\n",
            "[WARNING] [2021-07-16 19:46:50,137:Client-AutoMLSMBO(1)::8ad4eb2e-e66e-11eb-828e-0242ac1c0002] Configuration 388 not found\n",
            "[WARNING] [2021-07-16 19:46:50,137:Client-AutoMLSMBO(1)::8ad4eb2e-e66e-11eb-828e-0242ac1c0002] Configuration 470 not found\n",
            "[WARNING] [2021-07-16 19:46:50,137:Client-AutoMLSMBO(1)::8ad4eb2e-e66e-11eb-828e-0242ac1c0002] Configuration 448 not found\n",
            "[WARNING] [2021-07-16 19:46:50,137:Client-AutoMLSMBO(1)::8ad4eb2e-e66e-11eb-828e-0242ac1c0002] Configuration 112 not found\n",
            "[WARNING] [2021-07-16 19:46:50,140:Client-AutoMLSMBO(1)::8ad4eb2e-e66e-11eb-828e-0242ac1c0002] Configuration 587 not found\n",
            "[WARNING] [2021-07-16 19:46:50,140:Client-AutoMLSMBO(1)::8ad4eb2e-e66e-11eb-828e-0242ac1c0002] Configuration 653 not found\n",
            "[WARNING] [2021-07-16 19:46:50,140:Client-AutoMLSMBO(1)::8ad4eb2e-e66e-11eb-828e-0242ac1c0002] Configuration 214 not found\n",
            "[WARNING] [2021-07-16 19:46:50,140:Client-AutoMLSMBO(1)::8ad4eb2e-e66e-11eb-828e-0242ac1c0002] Configuration 53 not found\n",
            "[WARNING] [2021-07-16 19:46:50,140:Client-AutoMLSMBO(1)::8ad4eb2e-e66e-11eb-828e-0242ac1c0002] Configuration 437 not found\n",
            "[WARNING] [2021-07-16 19:46:50,140:Client-AutoMLSMBO(1)::8ad4eb2e-e66e-11eb-828e-0242ac1c0002] Configuration 142 not found\n",
            "[WARNING] [2021-07-16 19:46:50,140:Client-AutoMLSMBO(1)::8ad4eb2e-e66e-11eb-828e-0242ac1c0002] Configuration 69 not found\n",
            "[WARNING] [2021-07-16 19:46:50,140:Client-AutoMLSMBO(1)::8ad4eb2e-e66e-11eb-828e-0242ac1c0002] Configuration 310 not found\n",
            "[WARNING] [2021-07-16 19:46:50,140:Client-AutoMLSMBO(1)::8ad4eb2e-e66e-11eb-828e-0242ac1c0002] Configuration 97 not found\n",
            "[WARNING] [2021-07-16 19:46:50,140:Client-AutoMLSMBO(1)::8ad4eb2e-e66e-11eb-828e-0242ac1c0002] Configuration 378 not found\n",
            "[WARNING] [2021-07-16 19:46:50,141:Client-AutoMLSMBO(1)::8ad4eb2e-e66e-11eb-828e-0242ac1c0002] Configuration 382 not found\n",
            "[WARNING] [2021-07-16 19:46:50,141:Client-AutoMLSMBO(1)::8ad4eb2e-e66e-11eb-828e-0242ac1c0002] Configuration 17 not found\n",
            "[WARNING] [2021-07-16 19:46:50,141:Client-AutoMLSMBO(1)::8ad4eb2e-e66e-11eb-828e-0242ac1c0002] Configuration 352 not found\n",
            "[WARNING] [2021-07-16 19:46:50,141:Client-AutoMLSMBO(1)::8ad4eb2e-e66e-11eb-828e-0242ac1c0002] Configuration 509 not found\n",
            "[WARNING] [2021-07-16 19:46:50,141:Client-AutoMLSMBO(1)::8ad4eb2e-e66e-11eb-828e-0242ac1c0002] Configuration 512 not found\n",
            "[WARNING] [2021-07-16 19:46:50,141:Client-AutoMLSMBO(1)::8ad4eb2e-e66e-11eb-828e-0242ac1c0002] Configuration 613 not found\n",
            "[WARNING] [2021-07-16 19:46:50,141:Client-AutoMLSMBO(1)::8ad4eb2e-e66e-11eb-828e-0242ac1c0002] Configuration 171 not found\n",
            "[WARNING] [2021-07-16 19:46:50,141:Client-AutoMLSMBO(1)::8ad4eb2e-e66e-11eb-828e-0242ac1c0002] Configuration 19 not found\n",
            "[WARNING] [2021-07-16 19:46:50,141:Client-AutoMLSMBO(1)::8ad4eb2e-e66e-11eb-828e-0242ac1c0002] Configuration 528 not found\n",
            "[WARNING] [2021-07-16 19:46:50,141:Client-AutoMLSMBO(1)::8ad4eb2e-e66e-11eb-828e-0242ac1c0002] Configuration 403 not found\n",
            "[WARNING] [2021-07-16 19:46:50,141:Client-AutoMLSMBO(1)::8ad4eb2e-e66e-11eb-828e-0242ac1c0002] Configuration 293 not found\n",
            "[WARNING] [2021-07-16 19:46:50,142:Client-AutoMLSMBO(1)::8ad4eb2e-e66e-11eb-828e-0242ac1c0002] Configuration 154 not found\n",
            "[WARNING] [2021-07-16 19:46:50,142:Client-AutoMLSMBO(1)::8ad4eb2e-e66e-11eb-828e-0242ac1c0002] Configuration 322 not found\n",
            "[WARNING] [2021-07-16 19:46:50,142:Client-AutoMLSMBO(1)::8ad4eb2e-e66e-11eb-828e-0242ac1c0002] Configuration 494 not found\n",
            "[WARNING] [2021-07-16 19:46:50,142:Client-AutoMLSMBO(1)::8ad4eb2e-e66e-11eb-828e-0242ac1c0002] Configuration 172 not found\n",
            "[WARNING] [2021-07-16 19:46:50,142:Client-AutoMLSMBO(1)::8ad4eb2e-e66e-11eb-828e-0242ac1c0002] Configuration 419 not found\n",
            "[WARNING] [2021-07-16 19:46:50,142:Client-AutoMLSMBO(1)::8ad4eb2e-e66e-11eb-828e-0242ac1c0002] Configuration 270 not found\n",
            "[WARNING] [2021-07-16 19:46:50,142:Client-AutoMLSMBO(1)::8ad4eb2e-e66e-11eb-828e-0242ac1c0002] Configuration 25 not found\n",
            "[WARNING] [2021-07-16 19:46:50,142:Client-AutoMLSMBO(1)::8ad4eb2e-e66e-11eb-828e-0242ac1c0002] Configuration 86 not found\n",
            "[WARNING] [2021-07-16 19:46:50,142:Client-AutoMLSMBO(1)::8ad4eb2e-e66e-11eb-828e-0242ac1c0002] Configuration 165 not found\n",
            "[WARNING] [2021-07-16 19:46:50,142:Client-AutoMLSMBO(1)::8ad4eb2e-e66e-11eb-828e-0242ac1c0002] Configuration 313 not found\n",
            "[WARNING] [2021-07-16 19:46:50,142:Client-AutoMLSMBO(1)::8ad4eb2e-e66e-11eb-828e-0242ac1c0002] Configuration 480 not found\n",
            "[WARNING] [2021-07-16 19:46:50,142:Client-AutoMLSMBO(1)::8ad4eb2e-e66e-11eb-828e-0242ac1c0002] Configuration 375 not found\n",
            "[WARNING] [2021-07-16 19:46:50,143:Client-AutoMLSMBO(1)::8ad4eb2e-e66e-11eb-828e-0242ac1c0002] Configuration 243 not found\n",
            "[WARNING] [2021-07-16 19:46:50,143:Client-AutoMLSMBO(1)::8ad4eb2e-e66e-11eb-828e-0242ac1c0002] Configuration 486 not found\n",
            "[WARNING] [2021-07-16 19:46:50,143:Client-AutoMLSMBO(1)::8ad4eb2e-e66e-11eb-828e-0242ac1c0002] Configuration 461 not found\n",
            "[WARNING] [2021-07-16 19:46:50,143:Client-AutoMLSMBO(1)::8ad4eb2e-e66e-11eb-828e-0242ac1c0002] Configuration 499 not found\n",
            "[WARNING] [2021-07-16 19:46:50,143:Client-AutoMLSMBO(1)::8ad4eb2e-e66e-11eb-828e-0242ac1c0002] Configuration 640 not found\n",
            "[WARNING] [2021-07-16 19:46:50,143:Client-AutoMLSMBO(1)::8ad4eb2e-e66e-11eb-828e-0242ac1c0002] Configuration 363 not found\n",
            "[WARNING] [2021-07-16 19:46:50,143:Client-AutoMLSMBO(1)::8ad4eb2e-e66e-11eb-828e-0242ac1c0002] Configuration 548 not found\n",
            "[WARNING] [2021-07-16 19:46:50,143:Client-AutoMLSMBO(1)::8ad4eb2e-e66e-11eb-828e-0242ac1c0002] Configuration 622 not found\n",
            "[WARNING] [2021-07-16 19:46:50,144:Client-AutoMLSMBO(1)::8ad4eb2e-e66e-11eb-828e-0242ac1c0002] Configuration 317 not found\n",
            "[WARNING] [2021-07-16 19:46:50,145:Client-AutoMLSMBO(1)::8ad4eb2e-e66e-11eb-828e-0242ac1c0002] Configuration 538 not found\n",
            "[WARNING] [2021-07-16 19:46:50,145:Client-AutoMLSMBO(1)::8ad4eb2e-e66e-11eb-828e-0242ac1c0002] Configuration 304 not found\n",
            "[WARNING] [2021-07-16 19:46:50,145:Client-AutoMLSMBO(1)::8ad4eb2e-e66e-11eb-828e-0242ac1c0002] Configuration 58 not found\n",
            "[WARNING] [2021-07-16 19:46:50,146:Client-AutoMLSMBO(1)::8ad4eb2e-e66e-11eb-828e-0242ac1c0002] Configuration 452 not found\n",
            "[WARNING] [2021-07-16 19:46:50,146:Client-AutoMLSMBO(1)::8ad4eb2e-e66e-11eb-828e-0242ac1c0002] Configuration 120 not found\n",
            "[WARNING] [2021-07-16 19:46:50,146:Client-AutoMLSMBO(1)::8ad4eb2e-e66e-11eb-828e-0242ac1c0002] Configuration 275 not found\n"
          ],
          "name": "stdout"
        }
      ]
    },
    {
      "cell_type": "markdown",
      "metadata": {
        "id": "hFY7v7xstKzV"
      },
      "source": [
        "<h2>Métricas</h2>"
      ]
    },
    {
      "cell_type": "code",
      "metadata": {
        "id": "90IGpCJotKzW",
        "outputId": "8c5741d9-da91-4cb9-fc2f-2347890f9f14"
      },
      "source": [
        "X_train.shape, y_train.shape ,X_test.shape, y_test.shape"
      ],
      "execution_count": null,
      "outputs": [
        {
          "output_type": "execute_result",
          "data": {
            "text/plain": [
              "((140000, 200), (140000,), (60000, 200), (60000,))"
            ]
          },
          "metadata": {
            "tags": []
          },
          "execution_count": 45
        }
      ]
    },
    {
      "cell_type": "code",
      "metadata": {
        "id": "t1lQ4zHGy_5Q",
        "outputId": "40ec3052-cc2d-4589-8040-4e43d898f8d3"
      },
      "source": [
        "#Importar o módulo de métricas scikit-learn para o cálculo de precisão\n",
        "from sklearn import metrics\n",
        "# Acuracy , o quanto a arvore bateu\n",
        "metrics.accuracy_score(y_test, y_pred)"
      ],
      "execution_count": null,
      "outputs": [
        {
          "output_type": "execute_result",
          "data": {
            "text/plain": [
              "0.8996333333333333"
            ]
          },
          "metadata": {
            "tags": []
          },
          "execution_count": 37
        }
      ]
    },
    {
      "cell_type": "code",
      "metadata": {
        "id": "R2tgRDLxtKzc",
        "outputId": "357eb034-27d9-4965-957c-fc732e2b79e7"
      },
      "source": [
        "# Para saber quão bem o modelo irá generalizar\n",
        "#ou seja, ela serve para saber se o modelo será efetivo ao receber um dado que ele nunca viu na vida.\n",
        "clf.score(X_train, y_train)"
      ],
      "execution_count": null,
      "outputs": [
        {
          "output_type": "execute_result",
          "data": {
            "text/plain": [
              "1.0"
            ]
          },
          "metadata": {
            "tags": []
          },
          "execution_count": 48
        }
      ]
    },
    {
      "cell_type": "markdown",
      "metadata": {
        "id": "_22--mCxtKzg"
      },
      "source": [
        "<h3>Matriz de Confusão</h3>"
      ]
    },
    {
      "cell_type": "code",
      "metadata": {
        "id": "U5YXIZBjtKzh",
        "outputId": "dad67e56-2d35-4d6a-a1c3-0ff5bb60a8c9"
      },
      "source": [
        "#O Método confusion_matrix retorna a matriz de confusão\n",
        "from sklearn.metrics import confusion_matrix \n",
        "confusion_matrix(y_test,clf.predict(X_test))\n"
      ],
      "execution_count": null,
      "outputs": [
        {
          "output_type": "execute_result",
          "data": {
            "text/plain": [
              "array([[53976,     0],\n",
              "       [ 6022,     2]])"
            ]
          },
          "metadata": {
            "tags": []
          },
          "execution_count": 51
        }
      ]
    },
    {
      "cell_type": "code",
      "metadata": {
        "id": "NFgyhE7ZtKzk",
        "outputId": "381db3cb-995e-420b-bc9c-b1d6a0036c6b"
      },
      "source": [
        "pd.crosstab(y_test,clf.predict(X_test),rownames=['Real'],colnames=['Predito'],margins=True)"
      ],
      "execution_count": null,
      "outputs": [
        {
          "output_type": "execute_result",
          "data": {
            "text/html": [
              "<div>\n",
              "<style scoped>\n",
              "    .dataframe tbody tr th:only-of-type {\n",
              "        vertical-align: middle;\n",
              "    }\n",
              "\n",
              "    .dataframe tbody tr th {\n",
              "        vertical-align: top;\n",
              "    }\n",
              "\n",
              "    .dataframe thead th {\n",
              "        text-align: right;\n",
              "    }\n",
              "</style>\n",
              "<table border=\"1\" class=\"dataframe\">\n",
              "  <thead>\n",
              "    <tr style=\"text-align: right;\">\n",
              "      <th>Predito</th>\n",
              "      <th>0</th>\n",
              "      <th>1</th>\n",
              "      <th>All</th>\n",
              "    </tr>\n",
              "    <tr>\n",
              "      <th>Real</th>\n",
              "      <th></th>\n",
              "      <th></th>\n",
              "      <th></th>\n",
              "    </tr>\n",
              "  </thead>\n",
              "  <tbody>\n",
              "    <tr>\n",
              "      <th>0</th>\n",
              "      <td>53976</td>\n",
              "      <td>0</td>\n",
              "      <td>53976</td>\n",
              "    </tr>\n",
              "    <tr>\n",
              "      <th>1</th>\n",
              "      <td>6022</td>\n",
              "      <td>2</td>\n",
              "      <td>6024</td>\n",
              "    </tr>\n",
              "    <tr>\n",
              "      <th>All</th>\n",
              "      <td>59998</td>\n",
              "      <td>2</td>\n",
              "      <td>60000</td>\n",
              "    </tr>\n",
              "  </tbody>\n",
              "</table>\n",
              "</div>"
            ],
            "text/plain": [
              "Predito      0  1    All\n",
              "Real                    \n",
              "0        53976  0  53976\n",
              "1         6022  2   6024\n",
              "All      59998  2  60000"
            ]
          },
          "metadata": {
            "tags": []
          },
          "execution_count": 52
        }
      ]
    },
    {
      "cell_type": "code",
      "metadata": {
        "id": "SlpK-OxytKzo"
      },
      "source": [
        ""
      ],
      "execution_count": null,
      "outputs": []
    },
    {
      "cell_type": "markdown",
      "metadata": {
        "id": "WW3I_ZW_EXVK"
      },
      "source": [
        "\n",
        "\n",
        "```\n",
        "-------------------------------------------------------------------------\n",
        "Test Accuracy score 0.9102666246688036\n",
        "-------------------------------------------------------------------------\n",
        "Test Report score               precision    recall  f1-score   support\n",
        "\n",
        "           0       0.92      0.90      0.91     53982\n",
        "           1       0.90      0.92      0.91     53960\n",
        "\n",
        "    accuracy                           0.91    107942\n",
        "   macro avg       0.91      0.91      0.91    107942\n",
        "weighted avg       0.91      0.91      0.91    107942\n",
        "\n",
        "-------------------------------------------------------------------------\n",
        "Test Confusion Matrix [[48649  5333]\n",
        " [ 4353 49607]]\n",
        "-------------------------------------------------------------------------\n",
        "auto-sklearn results:\n",
        "  Dataset name: 29b090ba-e012-11eb-81fa-0242ac1c0002\n",
        "  Metric: accuracy\n",
        "  Best validation score: 0.825949\n",
        "  Number of target algorithm runs: 54\n",
        "  Number of successful target algorithm runs: 12\n",
        "  Number of crashed target algorithm runs: 6\n",
        "  Number of target algorithms that exceeded the time limit: 5\n",
        "  Number of target algorithms that exceeded the memory limit: 31\n",
        "\n",
        "-------------------------------------------------------------------------\n",
        "[(0.220000, SimpleClassificationPipeline({'balancing:strategy': 'weighting', 'classifier:__choice__': 'decision_tree', 'data_preprocessing:categorical_transformer:categorical_encoding:__choice__': 'one_hot_encoding', 'data_preprocessing:categorical_transformer:category_coalescence:__choice__': 'no_coalescense', 'data_preprocessing:numerical_transformer:imputation:strategy': 'mean', 'data_preprocessing:numerical_transformer:rescaling:__choice__': 'normalize', 'feature_preprocessor:__choice__': 'no_preprocessing', 'classifier:decision_tree:criterion': 'gini', 'classifier:decision_tree:max_depth_factor': 1.6785057002915527, 'classifier:decision_tree:max_features': 1.0, 'classifier:decision_tree:max_leaf_nodes': 'None', 'classifier:decision_tree:min_impurity_decrease': 0.0, 'classifier:decision_tree:min_samples_leaf': 4, 'classifier:decision_tree:min_samples_split': 20, 'classifier:decision_tree:min_weight_fraction_leaf': 0.0},\n",
        "dataset_properties={\n",
        "  'task': 1,\n",
        "  'sparse': False,\n",
        "  'multilabel': False,\n",
        "  'multiclass': False,\n",
        "  'target_type': 'classification',\n",
        "  'signed': False})),\n",
        "(0.180000, SimpleClassificationPipeline({'balancing:strategy': 'weighting', 'classifier:__choice__': 'passive_aggressive', 'data_preprocessing:categorical_transformer:categorical_encoding:__choice__': 'no_encoding', 'data_preprocessing:categorical_transformer:category_coalescence:__choice__': 'minority_coalescer', 'data_preprocessing:numerical_transformer:imputation:strategy': 'mean', 'data_preprocessing:numerical_transformer:rescaling:__choice__': 'none', 'feature_preprocessor:__choice__': 'no_preprocessing', 'classifier:passive_aggressive:C': 0.003328837875996956, 'classifier:passive_aggressive:average': 'True', 'classifier:passive_aggressive:fit_intercept': 'True', 'classifier:passive_aggressive:loss': 'hinge', 'classifier:passive_aggressive:tol': 0.0035999028286161847, 'data_preprocessing:categorical_transformer:category_coalescence:minority_coalescer:minimum_fraction': 0.012417001951578244},\n",
        "dataset_properties={\n",
        "  'task': 1,\n",
        "  'sparse': False,\n",
        "  'multilabel': False,\n",
        "  'multiclass': False,\n",
        "  'target_type': 'classification',\n",
        "  'signed': False})),\n",
        "(0.140000, SimpleClassificationPipeline({'balancing:strategy': 'none', 'classifier:__choice__': 'passive_aggressive', 'data_preprocessing:categorical_transformer:categorical_encoding:__choice__': 'no_encoding', 'data_preprocessing:categorical_transformer:category_coalescence:__choice__': 'minority_coalescer', 'data_preprocessing:numerical_transformer:imputation:strategy': 'most_frequent', 'data_preprocessing:numerical_transformer:rescaling:__choice__': 'none', 'feature_preprocessor:__choice__': 'no_preprocessing', 'classifier:passive_aggressive:C': 0.14268277711454813, 'classifier:passive_aggressive:average': 'False', 'classifier:passive_aggressive:fit_intercept': 'True', 'classifier:passive_aggressive:loss': 'hinge', 'classifier:passive_aggressive:tol': 0.0002600768160857831, 'data_preprocessing:categorical_transformer:category_coalescence:minority_coalescer:minimum_fraction': 0.0070580904199417415},\n",
        "dataset_properties={\n",
        "  'task': 1,\n",
        "  'sparse': False,\n",
        "  'multilabel': False,\n",
        "  'multiclass': False,\n",
        "  'target_type': 'classification',\n",
        "  'signed': False})),\n",
        "(0.120000, SimpleClassificationPipeline({'balancing:strategy': 'weighting', 'classifier:__choice__': 'decision_tree', 'data_preprocessing:categorical_transformer:categorical_encoding:__choice__': 'one_hot_encoding', 'data_preprocessing:categorical_transformer:category_coalescence:__choice__': 'no_coalescense', 'data_preprocessing:numerical_transformer:imputation:strategy': 'mean', 'data_preprocessing:numerical_transformer:rescaling:__choice__': 'none', 'feature_preprocessor:__choice__': 'no_preprocessing', 'classifier:decision_tree:criterion': 'gini', 'classifier:decision_tree:max_depth_factor': 1.5579368183433042, 'classifier:decision_tree:max_features': 1.0, 'classifier:decision_tree:max_leaf_nodes': 'None', 'classifier:decision_tree:min_impurity_decrease': 0.0, 'classifier:decision_tree:min_samples_leaf': 6, 'classifier:decision_tree:min_samples_split': 19, 'classifier:decision_tree:min_weight_fraction_leaf': 0.0},\n",
        "dataset_properties={\n",
        "  'task': 1,\n",
        "  'sparse': False,\n",
        "  'multilabel': False,\n",
        "  'multiclass': False,\n",
        "  'target_type': 'classification',\n",
        "  'signed': False})),\n",
        "(0.100000, SimpleClassificationPipeline({'balancing:strategy': 'none', 'classifier:__choice__': 'decision_tree', 'data_preprocessing:categorical_transformer:categorical_encoding:__choice__': 'no_encoding', 'data_preprocessing:categorical_transformer:category_coalescence:__choice__': 'no_coalescense', 'data_preprocessing:numerical_transformer:imputation:strategy': 'mean', 'data_preprocessing:numerical_transformer:rescaling:__choice__': 'none', 'feature_preprocessor:__choice__': 'no_preprocessing', 'classifier:decision_tree:criterion': 'gini', 'classifier:decision_tree:max_depth_factor': 1.0671559685162069, 'classifier:decision_tree:max_features': 1.0, 'classifier:decision_tree:max_leaf_nodes': 'None', 'classifier:decision_tree:min_impurity_decrease': 0.0, 'classifier:decision_tree:min_samples_leaf': 7, 'classifier:decision_tree:min_samples_split': 17, 'classifier:decision_tree:min_weight_fraction_leaf': 0.0},\n",
        "dataset_properties={\n",
        "  'task': 1,\n",
        "  'sparse': False,\n",
        "  'multilabel': False,\n",
        "  'multiclass': False,\n",
        "  'target_type': 'classification',\n",
        "  'signed': False})),\n",
        "(0.100000, SimpleClassificationPipeline({'balancing:strategy': 'none', 'classifier:__choice__': 'decision_tree', 'data_preprocessing:categorical_transformer:categorical_encoding:__choice__': 'one_hot_encoding', 'data_preprocessing:categorical_transformer:category_coalescence:__choice__': 'no_coalescense', 'data_preprocessing:numerical_transformer:imputation:strategy': 'mean', 'data_preprocessing:numerical_transformer:rescaling:__choice__': 'normalize', 'feature_preprocessor:__choice__': 'no_preprocessing', 'classifier:decision_tree:criterion': 'entropy', 'classifier:decision_tree:max_depth_factor': 0.9121274471912393, 'classifier:decision_tree:max_features': 1.0, 'classifier:decision_tree:max_leaf_nodes': 'None', 'classifier:decision_tree:min_impurity_decrease': 0.0, 'classifier:decision_tree:min_samples_leaf': 8, 'classifier:decision_tree:min_samples_split': 16, 'classifier:decision_tree:min_weight_fraction_leaf': 0.0},\n",
        "dataset_properties={\n",
        "  'task': 1,\n",
        "  'sparse': False,\n",
        "  'multilabel': False,\n",
        "  'multiclass': False,\n",
        "  'target_type': 'classification',\n",
        "  'signed': False})),\n",
        "(0.080000, SimpleClassificationPipeline({'balancing:strategy': 'none', 'classifier:__choice__': 'decision_tree', 'data_preprocessing:categorical_transformer:categorical_encoding:__choice__': 'one_hot_encoding', 'data_preprocessing:categorical_transformer:category_coalescence:__choice__': 'minority_coalescer', 'data_preprocessing:numerical_transformer:imputation:strategy': 'mean', 'data_preprocessing:numerical_transformer:rescaling:__choice__': 'normalize', 'feature_preprocessor:__choice__': 'no_preprocessing', 'classifier:decision_tree:criterion': 'gini', 'classifier:decision_tree:max_depth_factor': 0.32610381688381374, 'classifier:decision_tree:max_features': 1.0, 'classifier:decision_tree:max_leaf_nodes': 'None', 'classifier:decision_tree:min_impurity_decrease': 0.0, 'classifier:decision_tree:min_samples_leaf': 16, 'classifier:decision_tree:min_samples_split': 20, 'classifier:decision_tree:min_weight_fraction_leaf': 0.0, 'data_preprocessing:categorical_transformer:category_coalescence:minority_coalescer:minimum_fraction': 0.290252834387513},\n",
        "dataset_properties={\n",
        "  'task': 1,\n",
        "  'sparse': False,\n",
        "  'multilabel': False,\n",
        "  'multiclass': False,\n",
        "  'target_type': 'classification',\n",
        "  'signed': False})),\n",
        "(0.040000, SimpleClassificationPipeline({'balancing:strategy': 'weighting', 'classifier:__choice__': 'decision_tree', 'data_preprocessing:categorical_transformer:categorical_encoding:__choice__': 'one_hot_encoding', 'data_preprocessing:categorical_transformer:category_coalescence:__choice__': 'no_coalescense', 'data_preprocessing:numerical_transformer:imputation:strategy': 'most_frequent', 'data_preprocessing:numerical_transformer:rescaling:__choice__': 'none', 'feature_preprocessor:__choice__': 'no_preprocessing', 'classifier:decision_tree:criterion': 'gini', 'classifier:decision_tree:max_depth_factor': 0.9474357745043398, 'classifier:decision_tree:max_features': 1.0, 'classifier:decision_tree:max_leaf_nodes': 'None', 'classifier:decision_tree:min_impurity_decrease': 0.0, 'classifier:decision_tree:min_samples_leaf': 20, 'classifier:decision_tree:min_samples_split': 15, 'classifier:decision_tree:min_weight_fraction_leaf': 0.0},\n",
        "dataset_properties={\n",
        "  'task': 1,\n",
        "  'sparse': False,\n",
        "  'multilabel': False,\n",
        "  'multiclass': False,\n",
        "  'target_type': 'classification',\n",
        "  'signed': False})),\n",
        "(0.020000, SimpleClassificationPipeline({'balancing:strategy': 'none', 'classifier:__choice__': 'decision_tree', 'data_preprocessing:categorical_transformer:categorical_encoding:__choice__': 'one_hot_encoding', 'data_preprocessing:categorical_transformer:category_coalescence:__choice__': 'minority_coalescer', 'data_preprocessing:numerical_transformer:imputation:strategy': 'most_frequent', 'data_preprocessing:numerical_transformer:rescaling:__choice__': 'normalize', 'feature_preprocessor:__choice__': 'no_preprocessing', 'classifier:decision_tree:criterion': 'gini', 'classifier:decision_tree:max_depth_factor': 0.45967706370571815, 'classifier:decision_tree:max_features': 1.0, 'classifier:decision_tree:max_leaf_nodes': 'None', 'classifier:decision_tree:min_impurity_decrease': 0.0, 'classifier:decision_tree:min_samples_leaf': 20, 'classifier:decision_tree:min_samples_split': 19, 'classifier:decision_tree:min_weight_fraction_leaf': 0.0, 'data_preprocessing:categorical_transformer:category_coalescence:minority_coalescer:minimum_fraction': 0.0016619861530032675},\n",
        "dataset_properties={\n",
        "  'task': 1,\n",
        "  'sparse': False,\n",
        "  'multilabel': False,\n",
        "  'multiclass': False,\n",
        "  'target_type': 'classification',\n",
        "  'signed': False})),\n",
        "]\n",
        "-------------------------------------------------------------------------\n",
        "[(0.22, SimpleClassificationPipeline({'balancing:strategy': 'weighting', 'classifier:__choice__': 'decision_tree', 'data_preprocessing:categorical_transformer:categorical_encoding:__choice__': 'one_hot_encoding', 'data_preprocessing:categorical_transformer:category_coalescence:__choice__': 'no_coalescense', 'data_preprocessing:numerical_transformer:imputation:strategy': 'mean', 'data_preprocessing:numerical_transformer:rescaling:__choice__': 'normalize', 'feature_preprocessor:__choice__': 'no_preprocessing', 'classifier:decision_tree:criterion': 'gini', 'classifier:decision_tree:max_depth_factor': 1.6785057002915527, 'classifier:decision_tree:max_features': 1.0, 'classifier:decision_tree:max_leaf_nodes': 'None', 'classifier:decision_tree:min_impurity_decrease': 0.0, 'classifier:decision_tree:min_samples_leaf': 4, 'classifier:decision_tree:min_samples_split': 20, 'classifier:decision_tree:min_weight_fraction_leaf': 0.0},\n",
        "dataset_properties={\n",
        "  'task': 1,\n",
        "  'sparse': False,\n",
        "  'multilabel': False,\n",
        "  'multiclass': False,\n",
        "  'target_type': 'classification',\n",
        "  'signed': False})), (0.18, SimpleClassificationPipeline({'balancing:strategy': 'weighting', 'classifier:__choice__': 'passive_aggressive', 'data_preprocessing:categorical_transformer:categorical_encoding:__choice__': 'no_encoding', 'data_preprocessing:categorical_transformer:category_coalescence:__choice__': 'minority_coalescer', 'data_preprocessing:numerical_transformer:imputation:strategy': 'mean', 'data_preprocessing:numerical_transformer:rescaling:__choice__': 'none', 'feature_preprocessor:__choice__': 'no_preprocessing', 'classifier:passive_aggressive:C': 0.003328837875996956, 'classifier:passive_aggressive:average': 'True', 'classifier:passive_aggressive:fit_intercept': 'True', 'classifier:passive_aggressive:loss': 'hinge', 'classifier:passive_aggressive:tol': 0.0035999028286161847, 'data_preprocessing:categorical_transformer:category_coalescence:minority_coalescer:minimum_fraction': 0.012417001951578244},\n",
        "dataset_properties={\n",
        "  'task': 1,\n",
        "  'sparse': False,\n",
        "  'multilabel': False,\n",
        "  'multiclass': False,\n",
        "  'target_type': 'classification',\n",
        "  'signed': False})), (0.14, SimpleClassificationPipeline({'balancing:strategy': 'none', 'classifier:__choice__': 'passive_aggressive', 'data_preprocessing:categorical_transformer:categorical_encoding:__choice__': 'no_encoding', 'data_preprocessing:categorical_transformer:category_coalescence:__choice__': 'minority_coalescer', 'data_preprocessing:numerical_transformer:imputation:strategy': 'most_frequent', 'data_preprocessing:numerical_transformer:rescaling:__choice__': 'none', 'feature_preprocessor:__choice__': 'no_preprocessing', 'classifier:passive_aggressive:C': 0.14268277711454813, 'classifier:passive_aggressive:average': 'False', 'classifier:passive_aggressive:fit_intercept': 'True', 'classifier:passive_aggressive:loss': 'hinge', 'classifier:passive_aggressive:tol': 0.0002600768160857831, 'data_preprocessing:categorical_transformer:category_coalescence:minority_coalescer:minimum_fraction': 0.0070580904199417415},\n",
        "dataset_properties={\n",
        "  'task': 1,\n",
        "  'sparse': False,\n",
        "  'multilabel': False,\n",
        "  'multiclass': False,\n",
        "  'target_type': 'classification',\n",
        "  'signed': False})), (0.12, SimpleClassificationPipeline({'balancing:strategy': 'weighting', 'classifier:__choice__': 'decision_tree', 'data_preprocessing:categorical_transformer:categorical_encoding:__choice__': 'one_hot_encoding', 'data_preprocessing:categorical_transformer:category_coalescence:__choice__': 'no_coalescense', 'data_preprocessing:numerical_transformer:imputation:strategy': 'mean', 'data_preprocessing:numerical_transformer:rescaling:__choice__': 'none', 'feature_preprocessor:__choice__': 'no_preprocessing', 'classifier:decision_tree:criterion': 'gini', 'classifier:decision_tree:max_depth_factor': 1.5579368183433042, 'classifier:decision_tree:max_features': 1.0, 'classifier:decision_tree:max_leaf_nodes': 'None', 'classifier:decision_tree:min_impurity_decrease': 0.0, 'classifier:decision_tree:min_samples_leaf': 6, 'classifier:decision_tree:min_samples_split': 19, 'classifier:decision_tree:min_weight_fraction_leaf': 0.0},\n",
        "dataset_properties={\n",
        "  'task': 1,\n",
        "  'sparse': False,\n",
        "  'multilabel': False,\n",
        "  'multiclass': False,\n",
        "  'target_type': 'classification',\n",
        "  'signed': False})), (0.1, SimpleClassificationPipeline({'balancing:strategy': 'none', 'classifier:__choice__': 'decision_tree', 'data_preprocessing:categorical_transformer:categorical_encoding:__choice__': 'no_encoding', 'data_preprocessing:categorical_transformer:category_coalescence:__choice__': 'no_coalescense', 'data_preprocessing:numerical_transformer:imputation:strategy': 'mean', 'data_preprocessing:numerical_transformer:rescaling:__choice__': 'none', 'feature_preprocessor:__choice__': 'no_preprocessing', 'classifier:decision_tree:criterion': 'gini', 'classifier:decision_tree:max_depth_factor': 1.0671559685162069, 'classifier:decision_tree:max_features': 1.0, 'classifier:decision_tree:max_leaf_nodes': 'None', 'classifier:decision_tree:min_impurity_decrease': 0.0, 'classifier:decision_tree:min_samples_leaf': 7, 'classifier:decision_tree:min_samples_split': 17, 'classifier:decision_tree:min_weight_fraction_leaf': 0.0},\n",
        "dataset_properties={\n",
        "  'task': 1,\n",
        "  'sparse': False,\n",
        "  'multilabel': False,\n",
        "  'multiclass': False,\n",
        "  'target_type': 'classification',\n",
        "  'signed': False})), (0.1, SimpleClassificationPipeline({'balancing:strategy': 'none', 'classifier:__choice__': 'decision_tree', 'data_preprocessing:categorical_transformer:categorical_encoding:__choice__': 'one_hot_encoding', 'data_preprocessing:categorical_transformer:category_coalescence:__choice__': 'no_coalescense', 'data_preprocessing:numerical_transformer:imputation:strategy': 'mean', 'data_preprocessing:numerical_transformer:rescaling:__choice__': 'normalize', 'feature_preprocessor:__choice__': 'no_preprocessing', 'classifier:decision_tree:criterion': 'entropy', 'classifier:decision_tree:max_depth_factor': 0.9121274471912393, 'classifier:decision_tree:max_features': 1.0, 'classifier:decision_tree:max_leaf_nodes': 'None', 'classifier:decision_tree:min_impurity_decrease': 0.0, 'classifier:decision_tree:min_samples_leaf': 8, 'classifier:decision_tree:min_samples_split': 16, 'classifier:decision_tree:min_weight_fraction_leaf': 0.0},\n",
        "dataset_properties={\n",
        "  'task': 1,\n",
        "  'sparse': False,\n",
        "  'multilabel': False,\n",
        "  'multiclass': False,\n",
        "  'target_type': 'classification',\n",
        "  'signed': False})), (0.08, SimpleClassificationPipeline({'balancing:strategy': 'none', 'classifier:__choice__': 'decision_tree', 'data_preprocessing:categorical_transformer:categorical_encoding:__choice__': 'one_hot_encoding', 'data_preprocessing:categorical_transformer:category_coalescence:__choice__': 'minority_coalescer', 'data_preprocessing:numerical_transformer:imputation:strategy': 'mean', 'data_preprocessing:numerical_transformer:rescaling:__choice__': 'normalize', 'feature_preprocessor:__choice__': 'no_preprocessing', 'classifier:decision_tree:criterion': 'gini', 'classifier:decision_tree:max_depth_factor': 0.32610381688381374, 'classifier:decision_tree:max_features': 1.0, 'classifier:decision_tree:max_leaf_nodes': 'None', 'classifier:decision_tree:min_impurity_decrease': 0.0, 'classifier:decision_tree:min_samples_leaf': 16, 'classifier:decision_tree:min_samples_split': 20, 'classifier:decision_tree:min_weight_fraction_leaf': 0.0, 'data_preprocessing:categorical_transformer:category_coalescence:minority_coalescer:minimum_fraction': 0.290252834387513},\n",
        "dataset_properties={\n",
        "  'task': 1,\n",
        "  'sparse': False,\n",
        "  'multilabel': False,\n",
        "  'multiclass': False,\n",
        "  'target_type': 'classification',\n",
        "  'signed': False})), (0.04, SimpleClassificationPipeline({'balancing:strategy': 'weighting', 'classifier:__choice__': 'decision_tree', 'data_preprocessing:categorical_transformer:categorical_encoding:__choice__': 'one_hot_encoding', 'data_preprocessing:categorical_transformer:category_coalescence:__choice__': 'no_coalescense', 'data_preprocessing:numerical_transformer:imputation:strategy': 'most_frequent', 'data_preprocessing:numerical_transformer:rescaling:__choice__': 'none', 'feature_preprocessor:__choice__': 'no_preprocessing', 'classifier:decision_tree:criterion': 'gini', 'classifier:decision_tree:max_depth_factor': 0.9474357745043398, 'classifier:decision_tree:max_features': 1.0, 'classifier:decision_tree:max_leaf_nodes': 'None', 'classifier:decision_tree:min_impurity_decrease': 0.0, 'classifier:decision_tree:min_samples_leaf': 20, 'classifier:decision_tree:min_samples_split': 15, 'classifier:decision_tree:min_weight_fraction_leaf': 0.0},\n",
        "dataset_properties={\n",
        "  'task': 1,\n",
        "  'sparse': False,\n",
        "  'multilabel': False,\n",
        "  'multiclass': False,\n",
        "  'target_type': 'classification',\n",
        "  'signed': False})), (0.02, SimpleClassificationPipeline({'balancing:strategy': 'none', 'classifier:__choice__': 'decision_tree', 'data_preprocessing:categorical_transformer:categorical_encoding:__choice__': 'one_hot_encoding', 'data_preprocessing:categorical_transformer:category_coalescence:__choice__': 'minority_coalescer', 'data_preprocessing:numerical_transformer:imputation:strategy': 'most_frequent', 'data_preprocessing:numerical_transformer:rescaling:__choice__': 'normalize', 'feature_preprocessor:__choice__': 'no_preprocessing', 'classifier:decision_tree:criterion': 'gini', 'classifier:decision_tree:max_depth_factor': 0.45967706370571815, 'classifier:decision_tree:max_features': 1.0, 'classifier:decision_tree:max_leaf_nodes': 'None', 'classifier:decision_tree:min_impurity_decrease': 0.0, 'classifier:decision_tree:min_samples_leaf': 20, 'classifier:decision_tree:min_samples_split': 19, 'classifier:decision_tree:min_weight_fraction_leaf': 0.0, 'data_preprocessing:categorical_transformer:category_coalescence:minority_coalescer:minimum_fraction': 0.0016619861530032675},\n",
        "dataset_properties={\n",
        "  'task': 1,\n",
        "  'sparse': False,\n",
        "  'multilabel': False,\n",
        "  'multiclass': False,\n",
        "  'target_type': 'classification',\n",
        "  'signed': False}))]\n",
        "```\n",
        "\n"
      ]
    }
  ]
}